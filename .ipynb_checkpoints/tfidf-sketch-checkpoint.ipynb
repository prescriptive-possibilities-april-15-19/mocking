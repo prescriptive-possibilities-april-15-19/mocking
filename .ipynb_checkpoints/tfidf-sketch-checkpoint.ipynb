{
 "cells": [
  {
   "cell_type": "code",
   "execution_count": null,
   "metadata": {},
   "outputs": [],
   "source": [
    "from sklearn.feature_extraction.text import TfidfVectorizer\n",
    "import pandas as pd\n",
    "import pickle\n",
    "\n",
    "min_f_count = 2\n",
    "ngram_max = 10\n",
    "max_features = 10000\n",
    "\n",
    "tfidf = TfidfVectorizer(\n",
    "    lowercase=False,\n",
    "    analyzer='char',\n",
    "    stop_words=None,\n",
    "    ngram_range=(1,ngram_max),\n",
    "    min_df=min_f_count,\n",
    "    max_features=max_features\n",
    ")\n",
    "\n",
    "sequences = pd.read_csv('sequences.csv').rename({'Unnamed: 0': 'seq_id'}, axis=1)\n",
    "\n",
    "X = tfidf.fit_transform(sequences.sequence)"
   ]
  },
  {
   "cell_type": "code",
   "execution_count": null,
   "metadata": {},
   "outputs": [],
   "source": [
    "X"
   ]
  }
 ],
 "metadata": {
  "kernelspec": {
   "display_name": "Python 3",
   "language": "python",
   "name": "python3"
  },
  "language_info": {
   "codemirror_mode": {
    "name": "ipython",
    "version": 3
   },
   "file_extension": ".py",
   "mimetype": "text/x-python",
   "name": "python",
   "nbconvert_exporter": "python",
   "pygments_lexer": "ipython3",
   "version": "3.6.6"
  }
 },
 "nbformat": 4,
 "nbformat_minor": 2
}
