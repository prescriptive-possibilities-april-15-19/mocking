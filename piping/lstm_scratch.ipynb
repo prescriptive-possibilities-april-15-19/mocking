{
 "cells": [
  {
   "cell_type": "code",
   "execution_count": null,
   "metadata": {},
   "outputs": [
    {
     "name": "stdout",
     "output_type": "stream",
     "text": [
      "FOR TF-IDF: training TF-IDF with dims (40000, 2)\tfitting.....\tTF-IDF is all trained up!\n",
      "FOR BaggingClassifierPU MODELS:\t Sequences: (105802, 1);\t Binding: (1913, 2);\t Number of ligand id values: 1000. \n",
      "populating models dict now at length 10... next, fitting on ligand #1040950."
     ]
    }
   ],
   "source": [
    "%%time\n",
    "from tfidf import raw_prefix\n",
    "from puc import models\n",
    "from keras.models import Model\n",
    "from keras.layers import Input, Dense, Embedding, Concatenate\n",
    "from keras.layers import LSTM\n",
    "import numpy as np\n",
    "import pandas as pd\n",
    "from functools import partial, reduce\n",
    "from sklearn.model_selection import train_test_split\n",
    "\n",
    "seed = 42\n",
    "np.random.seed(seed)\n",
    "rnn_num_samples=100\n",
    "lstm_size = 128\n",
    "dropout = 0.2\n",
    "recurrent_dropout = 0.2\n",
    "epochs = 20\n",
    "batch_size = 128 # number of datapoints its fed each time it fits\n",
    "pad_length_lig = 1000 # max size of smile string\n",
    "pad_length_seq = 1000 # max size of sequence\n",
    "num_puc_models = 30\n",
    "num_bindings = 300\n",
    "\n",
    "print(len(models.keys()))\n",
    "\n",
    "print(list(models.items())[:3])"
   ]
  },
  {
   "cell_type": "code",
   "execution_count": null,
   "metadata": {},
   "outputs": [],
   "source": [
    "\n",
    "ligands = (pd.read_csv(raw_prefix+'ligands.csv', \n",
    "                       index_col='id', \n",
    "                       usecols=['id', 'SMILES'])\n",
    "           .rename({'SMILES': 'smile'}, axis=1))\n",
    "\n",
    "\n",
    "sequences = pd.read_csv(raw_prefix+'sequences.csv', index_col=0)#.rename({'Unnamed: 0': 'seq_id'}, axis=1)\n",
    "\n",
    "ligands['smile_length'] = ligands.smile.apply(lambda x: len(x))\n",
    "ligands = ligands.loc[ligands.smile_length<=pad_length_lig].loc[ligands.smile_length>0]\n",
    "\n",
    "sequences['seq_length'] = sequences.sequence.apply(lambda x: len(x))\n",
    "sequences = sequences.loc[sequences.seq_length<=pad_length_seq].loc[sequences.seq_length>0]\n",
    "\n",
    "PUC_models_list = np.random.choice([k for k,v \n",
    "                                    in models.items() \n",
    "                                    if k in ligands.index \n",
    "                                    and k in sequences.index], num_puc_models)\n",
    "\n",
    "lig2seq = pd.read_csv(raw_prefix+'lig2seq.csv').rename({'lig': 'lig_idx', 'seq': 'seq_idx'}, axis=1)\n",
    "\n",
    "lig2seq = lig2seq.loc[lig2seq.lig_idx.isin(ligands.index)]\n",
    "lig2seq = lig2seq.loc[lig2seq.seq_idx.isin(sequences.index)]\n",
    "\n",
    "lig2seq = lig2seq.loc[~lig2seq.lig_idx.isin(PUC_models_list)].sample(n=num_bindings)\n",
    "\n",
    "print(ligands.shape, sequences.shape, lig2seq.shape)\n"
   ]
  },
  {
   "cell_type": "code",
   "execution_count": 2,
   "metadata": {},
   "outputs": [
    {
     "name": "stdout",
     "output_type": "stream",
     "text": []
    }
   ],
   "source": [
    "\n"
   ]
  },
  {
   "cell_type": "code",
   "execution_count": null,
   "metadata": {},
   "outputs": [],
   "source": [
    "import sys\n",
    "import time\n",
    " \n",
    "def spinning_cursor():\n",
    "    while True:\n",
    "        for cursor in '|/-\\\\':\n",
    "            yield cursor\n",
    "\n",
    "spinner = spinning_cursor()\n",
    "\n",
    "for _ in range(50):\n",
    "    sys.stdout.write(next(spinner))\n",
    "    sys.stdout.flush()\n",
    "    time.sleep(0.1)\n",
    "    sys.stdout.write('\\b')"
   ]
  },
  {
   "cell_type": "code",
   "execution_count": null,
   "metadata": {},
   "outputs": [],
   "source": []
  }
 ],
 "metadata": {
  "kernelspec": {
   "display_name": "Python 3",
   "language": "python",
   "name": "python3"
  },
  "language_info": {
   "codemirror_mode": {
    "name": "ipython",
    "version": 3
   },
   "file_extension": ".py",
   "mimetype": "text/x-python",
   "name": "python",
   "nbconvert_exporter": "python",
   "pygments_lexer": "ipython3",
   "version": "3.6.6"
  }
 },
 "nbformat": 4,
 "nbformat_minor": 2
}
