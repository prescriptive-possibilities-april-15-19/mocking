{
 "cells": [
  {
   "cell_type": "code",
   "execution_count": null,
   "metadata": {},
   "outputs": [
    {
     "name": "stdout",
     "output_type": "stream",
     "text": [
      "FOR TF-IDF: training TF-IDF with dims (40000, 2)\tfitting.......................................................................................................................................................................................................................................................................................................................................................................................................................TF-IDF is all trained up!\n",
      "FOR BaggingClassifierPU MODELS:\t Sequences: (105802, 1);\t Binding: (1913, 2);\t Number of ligand id values: 1000. \n",
      "Models dict now populated to length 4; next, fitting on ligand #705642........................................\\Models dict now populated to length 4; next, fitting on ligand #509764........................../"
     ]
    }
   ],
   "source": [
    "%%time\n",
    "from tfidf import raw_prefix\n",
    "from puc import models, tfidf\n",
    "from keras.models import Model\n",
    "from keras.layers import Input, Dense, Embedding, Concatenate\n",
    "from keras.layers import LSTM\n",
    "import numpy as np\n",
    "import pandas as pd\n",
    "from functools import partial, reduce\n",
    "from sklearn.model_selection import train_test_split\n",
    "from utils import Spinner\n",
    "import sys \n",
    "import pickle\n",
    "\n",
    "spinner = Spinner()\n",
    "seed = 42\n",
    "np.random.seed(seed)\n",
    "rnn_num_samples=100\n",
    "lstm_size = 128\n",
    "dropout = 0.2\n",
    "recurrent_dropout = 0.2\n",
    "epochs = 20\n",
    "batch_size = 128 # number of datapoints its fed each time it fits\n",
    "pad_length_lig = 1000 # max size of smile string\n",
    "pad_length_seq = 1000 # max size of sequence\n",
    "num_puc_models = 30\n",
    "num_bindings = 300\n",
    "\n",
    "print(len(models.keys()))\n",
    "\n",
    "print(list(models.items())[:3])"
   ]
  },
  {
   "cell_type": "code",
   "execution_count": 3,
   "metadata": {},
   "outputs": [
    {
     "name": "stdout",
     "output_type": "stream",
     "text": [
      "247010621 models.pickle\n"
     ]
    }
   ],
   "source": [
    "#with open('')\n",
    "!wc -c models.pickle\n",
    "\n",
    "with open('everything.pickle', 'wb') as ep: \n",
    "    T = (models, tfidf) # Tuple[Dict[int, Estimator], Estimator]\n",
    "    pickle.dump(T, ep)"
   ]
  },
  {
   "cell_type": "code",
   "execution_count": 2,
   "metadata": {},
   "outputs": [
    {
     "name": "stdout",
     "output_type": "stream",
     "text": [
      "(499997, 2) (104874, 2) (300, 2)\n"
     ]
    }
   ],
   "source": [
    "\n",
    "ligands = (pd.read_csv(raw_prefix+'ligands.csv', \n",
    "                       index_col='id', \n",
    "                       usecols=['id', 'SMILES'])\n",
    "           .rename({'SMILES': 'smile'}, axis=1))\n",
    "\n",
    "\n",
    "sequences = pd.read_csv(raw_prefix+'sequences.csv', index_col=0)#.rename({'Unnamed: 0': 'seq_id'}, axis=1)\n",
    "\n",
    "ligands['smile_length'] = ligands.smile.apply(lambda x: len(x))\n",
    "ligands = ligands.loc[ligands.smile_length<=pad_length_lig].loc[ligands.smile_length>0]\n",
    "\n",
    "sequences['seq_length'] = sequences.sequence.apply(lambda x: len(x))\n",
    "sequences = sequences.loc[sequences.seq_length<=pad_length_seq].loc[sequences.seq_length>0]\n",
    "\n",
    "PUC_models_list = np.random.choice([k for k,v \n",
    "                                    in models.items() \n",
    "                                    if k in ligands.index \n",
    "                                    and k in sequences.index], num_puc_models)\n",
    "\n",
    "lig2seq = pd.read_csv(raw_prefix+'lig2seq.csv').rename({'lig': 'lig_idx', 'seq': 'seq_idx'}, axis=1)\n",
    "\n",
    "lig2seq = lig2seq.loc[lig2seq.lig_idx.isin(ligands.index)]\n",
    "lig2seq = lig2seq.loc[lig2seq.seq_idx.isin(sequences.index)]\n",
    "\n",
    "lig2seq = lig2seq.loc[~lig2seq.lig_idx.isin(PUC_models_list)].sample(n=num_bindings)\n",
    "\n",
    "print(ligands.shape, sequences.shape, lig2seq.shape)\n"
   ]
  },
  {
   "cell_type": "code",
   "execution_count": 3,
   "metadata": {},
   "outputs": [
    {
     "name": "stdout",
     "output_type": "stream",
     "text": [
      "(499997, 2)\n"
     ]
    },
    {
     "data": {
      "text/html": [
       "<div>\n",
       "<style scoped>\n",
       "    .dataframe tbody tr th:only-of-type {\n",
       "        vertical-align: middle;\n",
       "    }\n",
       "\n",
       "    .dataframe tbody tr th {\n",
       "        vertical-align: top;\n",
       "    }\n",
       "\n",
       "    .dataframe thead th {\n",
       "        text-align: right;\n",
       "    }\n",
       "</style>\n",
       "<table border=\"1\" class=\"dataframe\">\n",
       "  <thead>\n",
       "    <tr style=\"text-align: right;\">\n",
       "      <th></th>\n",
       "      <th>smile</th>\n",
       "      <th>smile_length</th>\n",
       "    </tr>\n",
       "    <tr>\n",
       "      <th>id</th>\n",
       "      <th></th>\n",
       "      <th></th>\n",
       "    </tr>\n",
       "  </thead>\n",
       "  <tbody>\n",
       "    <tr>\n",
       "      <th>0</th>\n",
       "      <td>CN1CCC(CC1)COC2=C(C=C3C(=C2)N=CN=C3NC4=C(C=C(C...</td>\n",
       "      <td>57</td>\n",
       "    </tr>\n",
       "    <tr>\n",
       "      <th>1</th>\n",
       "      <td>C1=CC=C(C=C1)C[C@H]2N(C(=O)N([C@@H]([C@@H]([C@...</td>\n",
       "      <td>97</td>\n",
       "    </tr>\n",
       "    <tr>\n",
       "      <th>2</th>\n",
       "      <td>C1CC1CN2[C@@H]([C@@H]([C@H]([C@H](N(C2=O)C/C=C...</td>\n",
       "      <td>86</td>\n",
       "    </tr>\n",
       "    <tr>\n",
       "      <th>3</th>\n",
       "      <td>C1CC1CN2[C@@H]([C@@H]([C@H]([C@H](N(C2=O)CCCCC...</td>\n",
       "      <td>78</td>\n",
       "    </tr>\n",
       "    <tr>\n",
       "      <th>4</th>\n",
       "      <td>C1CC1CN2[C@@H]([C@@H]([C@H]([C@H](N(C2=O)CCCCC...</td>\n",
       "      <td>77</td>\n",
       "    </tr>\n",
       "  </tbody>\n",
       "</table>\n",
       "</div>"
      ],
      "text/plain": [
       "                                                smile  smile_length\n",
       "id                                                                 \n",
       "0   CN1CCC(CC1)COC2=C(C=C3C(=C2)N=CN=C3NC4=C(C=C(C...            57\n",
       "1   C1=CC=C(C=C1)C[C@H]2N(C(=O)N([C@@H]([C@@H]([C@...            97\n",
       "2   C1CC1CN2[C@@H]([C@@H]([C@H]([C@H](N(C2=O)C/C=C...            86\n",
       "3   C1CC1CN2[C@@H]([C@@H]([C@H]([C@H](N(C2=O)CCCCC...            78\n",
       "4   C1CC1CN2[C@@H]([C@@H]([C@H]([C@H](N(C2=O)CCCCC...            77"
      ]
     },
     "execution_count": 3,
     "metadata": {},
     "output_type": "execute_result"
    }
   ],
   "source": [
    "print(ligands.shape)\n",
    "ligands.head()"
   ]
  },
  {
   "cell_type": "code",
   "execution_count": 4,
   "metadata": {},
   "outputs": [
    {
     "name": "stdout",
     "output_type": "stream",
     "text": [
      "(104874, 2)\n"
     ]
    },
    {
     "data": {
      "text/html": [
       "<div>\n",
       "<style scoped>\n",
       "    .dataframe tbody tr th:only-of-type {\n",
       "        vertical-align: middle;\n",
       "    }\n",
       "\n",
       "    .dataframe tbody tr th {\n",
       "        vertical-align: top;\n",
       "    }\n",
       "\n",
       "    .dataframe thead th {\n",
       "        text-align: right;\n",
       "    }\n",
       "</style>\n",
       "<table border=\"1\" class=\"dataframe\">\n",
       "  <thead>\n",
       "    <tr style=\"text-align: right;\">\n",
       "      <th></th>\n",
       "      <th>sequence</th>\n",
       "      <th>seq_length</th>\n",
       "    </tr>\n",
       "  </thead>\n",
       "  <tbody>\n",
       "    <tr>\n",
       "      <th>0</th>\n",
       "      <td>MVLSEGEWQLVLHVWAKVEADVAGHGQDILIRLFKSHPETLEKFDR...</td>\n",
       "      <td>154</td>\n",
       "    </tr>\n",
       "    <tr>\n",
       "      <th>1</th>\n",
       "      <td>MNIFEMLRIDEGLRLKIYKDTEGYYTIGIGHLLTKSPSLNAAAKSE...</td>\n",
       "      <td>165</td>\n",
       "    </tr>\n",
       "    <tr>\n",
       "      <th>2</th>\n",
       "      <td>MVLSEGEWQLVLHVWAKVEADVAGHGQDILIRLFKSHPETLEKFDR...</td>\n",
       "      <td>154</td>\n",
       "    </tr>\n",
       "    <tr>\n",
       "      <th>3</th>\n",
       "      <td>MNIFEMLRIDEGLRLKIYKDTEGYYTIGIGHLLTKSPSLNSLDAAK...</td>\n",
       "      <td>167</td>\n",
       "    </tr>\n",
       "    <tr>\n",
       "      <th>4</th>\n",
       "      <td>MNIFEMLRIDEGLRLKIYKDTEGYYTIGIGHLLTKSPSLNAAKSAA...</td>\n",
       "      <td>166</td>\n",
       "    </tr>\n",
       "  </tbody>\n",
       "</table>\n",
       "</div>"
      ],
      "text/plain": [
       "                                            sequence  seq_length\n",
       "0  MVLSEGEWQLVLHVWAKVEADVAGHGQDILIRLFKSHPETLEKFDR...         154\n",
       "1  MNIFEMLRIDEGLRLKIYKDTEGYYTIGIGHLLTKSPSLNAAAKSE...         165\n",
       "2  MVLSEGEWQLVLHVWAKVEADVAGHGQDILIRLFKSHPETLEKFDR...         154\n",
       "3  MNIFEMLRIDEGLRLKIYKDTEGYYTIGIGHLLTKSPSLNSLDAAK...         167\n",
       "4  MNIFEMLRIDEGLRLKIYKDTEGYYTIGIGHLLTKSPSLNAAKSAA...         166"
      ]
     },
     "execution_count": 4,
     "metadata": {},
     "output_type": "execute_result"
    }
   ],
   "source": [
    "print(sequences.shape)\n",
    "sequences.head()"
   ]
  },
  {
   "cell_type": "code",
   "execution_count": 5,
   "metadata": {},
   "outputs": [],
   "source": [
    "def ascii_onehot(length: int, s: str) -> np.ndarray: \n",
    "    ''' like a one-hot with an ascii-table as features '''\n",
    "    vec = np.zeros((length, 128))\n",
    "    ind = [ord(x) for x in s]\n",
    "    for i, cod in enumerate(ind): \n",
    "        vec[i, cod] = 1.\n",
    "    return vec\n"
   ]
  },
  {
   "cell_type": "code",
   "execution_count": 6,
   "metadata": {},
   "outputs": [],
   "source": [
    "def df_temp_(i: int) -> pd.DataFrame:\n",
    "    spinner.start()\n",
    "    dftemp_cols = [\n",
    "      'sequence', 'smile', \n",
    "      'seq_onehot', 'smile_onehot', \n",
    "      'pred_binding', 'proba_pred_binding'\n",
    "    ]\n",
    "    \n",
    "    k=PUC_models_list[i]\n",
    "    \n",
    "    df_temp = pd.DataFrame(columns=dftemp_cols)\n",
    "    bc_ = models[k]\n",
    "\n",
    "    smile = ligands.loc[k, 'smile']\n",
    "\n",
    "    seq_samp = sequences.sample(rnn_num_samples)\n",
    "        #i.e. from df_temp.seq_idx = seq_samp.index.values\n",
    "\n",
    "    df_temp.sequence = seq_samp.sequence.values\n",
    "    df_temp.seq_onehot = df_temp.sequence.apply(lambda x: ascii_onehot(length=pad_length_seq, s=x))\n",
    "\n",
    "    df_temp.smile = [smile for _ in range(rnn_num_samples)]#ligands.loc[seq_samp.index].smile\n",
    "\n",
    "    df_temp.smile_onehot = [ascii_onehot(length=pad_length_lig, s=smile) for _ in range(rnn_num_samples)]\n",
    "\n",
    "\n",
    "    df_temp.pred_binding = bc_.predict(tfidf.transform(df_temp.sequence.values).toarray())\n",
    "    df_temp.proba_pred_binding = bc_.predict_proba(tfidf.transform(df_temp.sequence.values).toarray())[:, 1]\n",
    "\n",
    "    assert df_temp.pred_binding.sum() > 1\n",
    "    sys.stdout.write(f\"with {df_temp.pred_binding.sum()} positive vals\")\n",
    "    assert df_temp.shape==(rnn_num_samples, len(dftemp_cols))\n",
    "    spinner.stop()\n",
    "    sys.stdout.write('\\r')\n",
    "    return df_temp\n"
   ]
  },
  {
   "cell_type": "code",
   "execution_count": 7,
   "metadata": {},
   "outputs": [
    {
     "name": "stdout",
     "output_type": "stream",
     "text": [
      ".................|"
     ]
    },
    {
     "ename": "TypeError",
     "evalue": "write() takes 2 positional arguments but 3 were given",
     "output_type": "error",
     "traceback": [
      "\u001b[0;31m---------------------------------------------------------------------------\u001b[0m",
      "\u001b[0;31mTypeError\u001b[0m                                 Traceback (most recent call last)",
      "\u001b[0;32m<ipython-input-7-06c160a1897c>\u001b[0m in \u001b[0;36m<module>\u001b[0;34m\u001b[0m\n\u001b[0;32m----> 1\u001b[0;31m \u001b[0mdf_total\u001b[0m \u001b[0;34m=\u001b[0m \u001b[0mreduce\u001b[0m\u001b[0;34m(\u001b[0m\u001b[0;32mlambda\u001b[0m \u001b[0mD\u001b[0m\u001b[0;34m,\u001b[0m \u001b[0mE\u001b[0m\u001b[0;34m:\u001b[0m \u001b[0mpd\u001b[0m\u001b[0;34m.\u001b[0m\u001b[0mconcat\u001b[0m\u001b[0;34m(\u001b[0m\u001b[0;34m[\u001b[0m\u001b[0mD\u001b[0m\u001b[0;34m,\u001b[0m \u001b[0mE\u001b[0m\u001b[0;34m]\u001b[0m\u001b[0;34m,\u001b[0m \u001b[0mignore_index\u001b[0m\u001b[0;34m=\u001b[0m\u001b[0;32mTrue\u001b[0m\u001b[0;34m)\u001b[0m\u001b[0;34m,\u001b[0m \u001b[0;34m[\u001b[0m\u001b[0mdf_temp_\u001b[0m\u001b[0;34m(\u001b[0m\u001b[0mi\u001b[0m\u001b[0;34m)\u001b[0m \u001b[0;32mfor\u001b[0m \u001b[0mi\u001b[0m\u001b[0;34m,\u001b[0m\u001b[0m_\u001b[0m \u001b[0;32min\u001b[0m \u001b[0menumerate\u001b[0m\u001b[0;34m(\u001b[0m\u001b[0mPUC_models_list\u001b[0m\u001b[0;34m)\u001b[0m\u001b[0;34m]\u001b[0m\u001b[0;34m)\u001b[0m\u001b[0;34m\u001b[0m\u001b[0m\n\u001b[0m\u001b[1;32m      2\u001b[0m \u001b[0;34m\u001b[0m\u001b[0m\n\u001b[1;32m      3\u001b[0m \u001b[0;31m# df_total = pd.concat([df_temp_(i) for i,_ in enumerate(PUC_models_list)])\u001b[0m\u001b[0;34m\u001b[0m\u001b[0;34m\u001b[0m\u001b[0m\n\u001b[1;32m      4\u001b[0m \u001b[0;34m\u001b[0m\u001b[0m\n\u001b[1;32m      5\u001b[0m \u001b[0mprint\u001b[0m\u001b[0;34m(\u001b[0m\u001b[0mdf_total\u001b[0m\u001b[0;34m.\u001b[0m\u001b[0mshape\u001b[0m\u001b[0;34m)\u001b[0m\u001b[0;34m\u001b[0m\u001b[0m\n",
      "\u001b[0;32m<ipython-input-7-06c160a1897c>\u001b[0m in \u001b[0;36m<listcomp>\u001b[0;34m(.0)\u001b[0m\n\u001b[0;32m----> 1\u001b[0;31m \u001b[0mdf_total\u001b[0m \u001b[0;34m=\u001b[0m \u001b[0mreduce\u001b[0m\u001b[0;34m(\u001b[0m\u001b[0;32mlambda\u001b[0m \u001b[0mD\u001b[0m\u001b[0;34m,\u001b[0m \u001b[0mE\u001b[0m\u001b[0;34m:\u001b[0m \u001b[0mpd\u001b[0m\u001b[0;34m.\u001b[0m\u001b[0mconcat\u001b[0m\u001b[0;34m(\u001b[0m\u001b[0;34m[\u001b[0m\u001b[0mD\u001b[0m\u001b[0;34m,\u001b[0m \u001b[0mE\u001b[0m\u001b[0;34m]\u001b[0m\u001b[0;34m,\u001b[0m \u001b[0mignore_index\u001b[0m\u001b[0;34m=\u001b[0m\u001b[0;32mTrue\u001b[0m\u001b[0;34m)\u001b[0m\u001b[0;34m,\u001b[0m \u001b[0;34m[\u001b[0m\u001b[0mdf_temp_\u001b[0m\u001b[0;34m(\u001b[0m\u001b[0mi\u001b[0m\u001b[0;34m)\u001b[0m \u001b[0;32mfor\u001b[0m \u001b[0mi\u001b[0m\u001b[0;34m,\u001b[0m\u001b[0m_\u001b[0m \u001b[0;32min\u001b[0m \u001b[0menumerate\u001b[0m\u001b[0;34m(\u001b[0m\u001b[0mPUC_models_list\u001b[0m\u001b[0;34m)\u001b[0m\u001b[0;34m]\u001b[0m\u001b[0;34m)\u001b[0m\u001b[0;34m\u001b[0m\u001b[0m\n\u001b[0m\u001b[1;32m      2\u001b[0m \u001b[0;34m\u001b[0m\u001b[0m\n\u001b[1;32m      3\u001b[0m \u001b[0;31m# df_total = pd.concat([df_temp_(i) for i,_ in enumerate(PUC_models_list)])\u001b[0m\u001b[0;34m\u001b[0m\u001b[0;34m\u001b[0m\u001b[0m\n\u001b[1;32m      4\u001b[0m \u001b[0;34m\u001b[0m\u001b[0m\n\u001b[1;32m      5\u001b[0m \u001b[0mprint\u001b[0m\u001b[0;34m(\u001b[0m\u001b[0mdf_total\u001b[0m\u001b[0;34m.\u001b[0m\u001b[0mshape\u001b[0m\u001b[0;34m)\u001b[0m\u001b[0;34m\u001b[0m\u001b[0m\n",
      "\u001b[0;32m<ipython-input-6-69b52bf38a3a>\u001b[0m in \u001b[0;36mdf_temp_\u001b[0;34m(i)\u001b[0m\n\u001b[1;32m     29\u001b[0m \u001b[0;34m\u001b[0m\u001b[0m\n\u001b[1;32m     30\u001b[0m     \u001b[0;32massert\u001b[0m \u001b[0mdf_temp\u001b[0m\u001b[0;34m.\u001b[0m\u001b[0mpred_binding\u001b[0m\u001b[0;34m.\u001b[0m\u001b[0msum\u001b[0m\u001b[0;34m(\u001b[0m\u001b[0;34m)\u001b[0m \u001b[0;34m>\u001b[0m \u001b[0;36m1\u001b[0m\u001b[0;34m\u001b[0m\u001b[0m\n\u001b[0;32m---> 31\u001b[0;31m     \u001b[0msys\u001b[0m\u001b[0;34m.\u001b[0m\u001b[0mstdout\u001b[0m\u001b[0;34m.\u001b[0m\u001b[0mwrite\u001b[0m\u001b[0;34m(\u001b[0m\u001b[0;34mf\"with {df_temp.pred_binding.sum()} positive vals\"\u001b[0m\u001b[0;34m,\u001b[0m \u001b[0mdf_temp\u001b[0m\u001b[0;34m.\u001b[0m\u001b[0mpred_binding\u001b[0m\u001b[0;34m.\u001b[0m\u001b[0msum\u001b[0m\u001b[0;34m(\u001b[0m\u001b[0;34m)\u001b[0m\u001b[0;34m)\u001b[0m\u001b[0;34m\u001b[0m\u001b[0m\n\u001b[0m\u001b[1;32m     32\u001b[0m     \u001b[0;32massert\u001b[0m \u001b[0mdf_temp\u001b[0m\u001b[0;34m.\u001b[0m\u001b[0mshape\u001b[0m\u001b[0;34m==\u001b[0m\u001b[0;34m(\u001b[0m\u001b[0mrnn_num_samples\u001b[0m\u001b[0;34m,\u001b[0m \u001b[0mlen\u001b[0m\u001b[0;34m(\u001b[0m\u001b[0mdftemp_cols\u001b[0m\u001b[0;34m)\u001b[0m\u001b[0;34m)\u001b[0m\u001b[0;34m\u001b[0m\u001b[0m\n\u001b[1;32m     33\u001b[0m     \u001b[0mspinner\u001b[0m\u001b[0;34m.\u001b[0m\u001b[0mstop\u001b[0m\u001b[0;34m(\u001b[0m\u001b[0;34m)\u001b[0m\u001b[0;34m\u001b[0m\u001b[0m\n",
      "\u001b[0;31mTypeError\u001b[0m: write() takes 2 positional arguments but 3 were given"
     ]
    }
   ],
   "source": [
    "df_total = reduce(lambda D, E: pd.concat([D, E], ignore_index=True), [df_temp_(i) for i,_ in enumerate(PUC_models_list)])\n",
    "\n",
    "# df_total = pd.concat([df_temp_(i) for i,_ in enumerate(PUC_models_list)])\n",
    "\n",
    "print(df_total.shape)\n",
    "\n",
    "df_total.head()"
   ]
  },
  {
   "cell_type": "code",
   "execution_count": null,
   "metadata": {},
   "outputs": [],
   "source": []
  },
  {
   "cell_type": "code",
   "execution_count": null,
   "metadata": {},
   "outputs": [],
   "source": []
  },
  {
   "cell_type": "code",
   "execution_count": null,
   "metadata": {},
   "outputs": [],
   "source": []
  },
  {
   "cell_type": "code",
   "execution_count": null,
   "metadata": {},
   "outputs": [],
   "source": []
  },
  {
   "cell_type": "code",
   "execution_count": null,
   "metadata": {},
   "outputs": [],
   "source": []
  },
  {
   "cell_type": "code",
   "execution_count": null,
   "metadata": {},
   "outputs": [],
   "source": []
  }
 ],
 "metadata": {
  "kernelspec": {
   "display_name": "Python 3",
   "language": "python",
   "name": "python3"
  },
  "language_info": {
   "codemirror_mode": {
    "name": "ipython",
    "version": 3
   },
   "file_extension": ".py",
   "mimetype": "text/x-python",
   "name": "python",
   "nbconvert_exporter": "python",
   "pygments_lexer": "ipython3",
   "version": "3.6.6"
  }
 },
 "nbformat": 4,
 "nbformat_minor": 2
}
