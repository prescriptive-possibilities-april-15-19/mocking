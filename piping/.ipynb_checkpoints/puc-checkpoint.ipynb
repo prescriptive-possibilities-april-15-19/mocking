{
 "cells": [
  {
   "cell_type": "code",
   "execution_count": 1,
   "metadata": {},
   "outputs": [
    {
     "name": "stdout",
     "output_type": "stream",
     "text": [
      "training data:  (105802, 2)\n",
      "fitting........\n",
      "all trained up!\n",
      "(105802, 1) (1913, 2) 1000\n",
      "(800, 8688) (800,)\n"
     ]
    }
   ],
   "source": [
    "from puc_dfs import fitter_df_maker, lig_id_vals, estimators\n",
    "from baggingPU import BaggingClassifierPU\n",
    "from sklearn.tree import DecisionTreeClassifier\n",
    "\n",
    "X, y = fitter_df_maker(lig_id_vals[22]) # as an example"
   ]
  },
  {
   "cell_type": "code",
   "execution_count": null,
   "metadata": {},
   "outputs": [
    {
     "name": "stdout",
     "output_type": "stream",
     "text": [
      "(800, 8688) (800,)\n",
      "(800, 8688) (800,)\n",
      "(800, 8688) (800,)\n"
     ]
    }
   ],
   "source": [
    "models = {}\n",
    "for lig_id in lig_id_vals: \n",
    "    try: \n",
    "        X, y = fitter_df_maker(lig_id)\n",
    "        bc = BaggingClassifierPU(DecisionTreeClassifier(), \n",
    "                                 n_estimators=estimators, \n",
    "                                 max_samples=int(sum(y)))\n",
    "        bc.fit(X, y)\n",
    "        models[lig_id] = bc\n",
    "    except: \n",
    "        pass\n",
    "\n",
    "models"
   ]
  },
  {
   "cell_type": "code",
   "execution_count": null,
   "metadata": {},
   "outputs": [],
   "source": [
    "for "
   ]
  },
  {
   "cell_type": "code",
   "execution_count": null,
   "metadata": {},
   "outputs": [],
   "source": []
  },
  {
   "cell_type": "code",
   "execution_count": null,
   "metadata": {},
   "outputs": [],
   "source": []
  }
 ],
 "metadata": {
  "kernelspec": {
   "display_name": "Python 3",
   "language": "python",
   "name": "python3"
  },
  "language_info": {
   "codemirror_mode": {
    "name": "ipython",
    "version": 3
   },
   "file_extension": ".py",
   "mimetype": "text/x-python",
   "name": "python",
   "nbconvert_exporter": "python",
   "pygments_lexer": "ipython3",
   "version": "3.6.6"
  }
 },
 "nbformat": 4,
 "nbformat_minor": 2
}
